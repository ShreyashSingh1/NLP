{
 "cells": [
  {
   "cell_type": "code",
   "execution_count": 1,
   "metadata": {},
   "outputs": [],
   "source": [
    "# Step 1: Import Libraries and Load the Model\n",
    "import numpy as np\n",
    "import tensorflow as tf\n",
    "from tensorflow.keras.datasets import imdb\n",
    "from tensorflow.keras.preprocessing import sequence\n",
    "from tensorflow.keras.models import load_model"
   ]
  },
  {
   "cell_type": "code",
   "execution_count": 2,
   "metadata": {},
   "outputs": [],
   "source": [
    "# Load the IMDB dataset word index\n",
    "word_index = imdb.get_word_index()\n",
    "reverse_word_index = {value: key for key, value in word_index.items()}"
   ]
  },
  {
   "cell_type": "code",
   "execution_count": 3,
   "metadata": {},
   "outputs": [
    {
     "name": "stderr",
     "output_type": "stream",
     "text": [
      "WARNING:absl:Compiled the loaded model, but the compiled metrics have yet to be built. `model.compile_metrics` will be empty until you train or evaluate the model.\n"
     ]
    },
    {
     "data": {
      "text/html": [
       "<pre style=\"white-space:pre;overflow-x:auto;line-height:normal;font-family:Menlo,'DejaVu Sans Mono',consolas,'Courier New',monospace\"><span style=\"font-weight: bold\">Model: \"sequential\"</span>\n",
       "</pre>\n"
      ],
      "text/plain": [
       "\u001b[1mModel: \"sequential\"\u001b[0m\n"
      ]
     },
     "metadata": {},
     "output_type": "display_data"
    },
    {
     "data": {
      "text/html": [
       "<pre style=\"white-space:pre;overflow-x:auto;line-height:normal;font-family:Menlo,'DejaVu Sans Mono',consolas,'Courier New',monospace\">┏━━━━━━━━━━━━━━━━━━━━━━━━━━━━━━━━━┳━━━━━━━━━━━━━━━━━━━━━━━━┳━━━━━━━━━━━━━━━┓\n",
       "┃<span style=\"font-weight: bold\"> Layer (type)                    </span>┃<span style=\"font-weight: bold\"> Output Shape           </span>┃<span style=\"font-weight: bold\">       Param # </span>┃\n",
       "┡━━━━━━━━━━━━━━━━━━━━━━━━━━━━━━━━━╇━━━━━━━━━━━━━━━━━━━━━━━━╇━━━━━━━━━━━━━━━┩\n",
       "│ embedding (<span style=\"color: #0087ff; text-decoration-color: #0087ff\">Embedding</span>)           │ (<span style=\"color: #00af00; text-decoration-color: #00af00\">32</span>, <span style=\"color: #00af00; text-decoration-color: #00af00\">500</span>, <span style=\"color: #00af00; text-decoration-color: #00af00\">128</span>)         │     <span style=\"color: #00af00; text-decoration-color: #00af00\">1,280,000</span> │\n",
       "├─────────────────────────────────┼────────────────────────┼───────────────┤\n",
       "│ simple_rnn (<span style=\"color: #0087ff; text-decoration-color: #0087ff\">SimpleRNN</span>)          │ (<span style=\"color: #00af00; text-decoration-color: #00af00\">32</span>, <span style=\"color: #00af00; text-decoration-color: #00af00\">128</span>)              │        <span style=\"color: #00af00; text-decoration-color: #00af00\">32,896</span> │\n",
       "├─────────────────────────────────┼────────────────────────┼───────────────┤\n",
       "│ dense (<span style=\"color: #0087ff; text-decoration-color: #0087ff\">Dense</span>)                   │ (<span style=\"color: #00af00; text-decoration-color: #00af00\">32</span>, <span style=\"color: #00af00; text-decoration-color: #00af00\">1</span>)                │           <span style=\"color: #00af00; text-decoration-color: #00af00\">129</span> │\n",
       "└─────────────────────────────────┴────────────────────────┴───────────────┘\n",
       "</pre>\n"
      ],
      "text/plain": [
       "┏━━━━━━━━━━━━━━━━━━━━━━━━━━━━━━━━━┳━━━━━━━━━━━━━━━━━━━━━━━━┳━━━━━━━━━━━━━━━┓\n",
       "┃\u001b[1m \u001b[0m\u001b[1mLayer (type)                   \u001b[0m\u001b[1m \u001b[0m┃\u001b[1m \u001b[0m\u001b[1mOutput Shape          \u001b[0m\u001b[1m \u001b[0m┃\u001b[1m \u001b[0m\u001b[1m      Param #\u001b[0m\u001b[1m \u001b[0m┃\n",
       "┡━━━━━━━━━━━━━━━━━━━━━━━━━━━━━━━━━╇━━━━━━━━━━━━━━━━━━━━━━━━╇━━━━━━━━━━━━━━━┩\n",
       "│ embedding (\u001b[38;5;33mEmbedding\u001b[0m)           │ (\u001b[38;5;34m32\u001b[0m, \u001b[38;5;34m500\u001b[0m, \u001b[38;5;34m128\u001b[0m)         │     \u001b[38;5;34m1,280,000\u001b[0m │\n",
       "├─────────────────────────────────┼────────────────────────┼───────────────┤\n",
       "│ simple_rnn (\u001b[38;5;33mSimpleRNN\u001b[0m)          │ (\u001b[38;5;34m32\u001b[0m, \u001b[38;5;34m128\u001b[0m)              │        \u001b[38;5;34m32,896\u001b[0m │\n",
       "├─────────────────────────────────┼────────────────────────┼───────────────┤\n",
       "│ dense (\u001b[38;5;33mDense\u001b[0m)                   │ (\u001b[38;5;34m32\u001b[0m, \u001b[38;5;34m1\u001b[0m)                │           \u001b[38;5;34m129\u001b[0m │\n",
       "└─────────────────────────────────┴────────────────────────┴───────────────┘\n"
      ]
     },
     "metadata": {},
     "output_type": "display_data"
    },
    {
     "data": {
      "text/html": [
       "<pre style=\"white-space:pre;overflow-x:auto;line-height:normal;font-family:Menlo,'DejaVu Sans Mono',consolas,'Courier New',monospace\"><span style=\"font-weight: bold\"> Total params: </span><span style=\"color: #00af00; text-decoration-color: #00af00\">1,313,027</span> (5.01 MB)\n",
       "</pre>\n"
      ],
      "text/plain": [
       "\u001b[1m Total params: \u001b[0m\u001b[38;5;34m1,313,027\u001b[0m (5.01 MB)\n"
      ]
     },
     "metadata": {},
     "output_type": "display_data"
    },
    {
     "data": {
      "text/html": [
       "<pre style=\"white-space:pre;overflow-x:auto;line-height:normal;font-family:Menlo,'DejaVu Sans Mono',consolas,'Courier New',monospace\"><span style=\"font-weight: bold\"> Trainable params: </span><span style=\"color: #00af00; text-decoration-color: #00af00\">1,313,025</span> (5.01 MB)\n",
       "</pre>\n"
      ],
      "text/plain": [
       "\u001b[1m Trainable params: \u001b[0m\u001b[38;5;34m1,313,025\u001b[0m (5.01 MB)\n"
      ]
     },
     "metadata": {},
     "output_type": "display_data"
    },
    {
     "data": {
      "text/html": [
       "<pre style=\"white-space:pre;overflow-x:auto;line-height:normal;font-family:Menlo,'DejaVu Sans Mono',consolas,'Courier New',monospace\"><span style=\"font-weight: bold\"> Non-trainable params: </span><span style=\"color: #00af00; text-decoration-color: #00af00\">0</span> (0.00 B)\n",
       "</pre>\n"
      ],
      "text/plain": [
       "\u001b[1m Non-trainable params: \u001b[0m\u001b[38;5;34m0\u001b[0m (0.00 B)\n"
      ]
     },
     "metadata": {},
     "output_type": "display_data"
    },
    {
     "data": {
      "text/html": [
       "<pre style=\"white-space:pre;overflow-x:auto;line-height:normal;font-family:Menlo,'DejaVu Sans Mono',consolas,'Courier New',monospace\"><span style=\"font-weight: bold\"> Optimizer params: </span><span style=\"color: #00af00; text-decoration-color: #00af00\">2</span> (12.00 B)\n",
       "</pre>\n"
      ],
      "text/plain": [
       "\u001b[1m Optimizer params: \u001b[0m\u001b[38;5;34m2\u001b[0m (12.00 B)\n"
      ]
     },
     "metadata": {},
     "output_type": "display_data"
    }
   ],
   "source": [
    "# Load the pre-trained model with ReLU activation\n",
    "model = load_model('models/simple_rnn_imdb.h5')\n",
    "model.summary()"
   ]
  },
  {
   "cell_type": "code",
   "execution_count": 4,
   "metadata": {},
   "outputs": [
    {
     "data": {
      "text/plain": [
       "[array([[-0.0096376 , -0.06113102,  0.02332867, ...,  0.00031273,\n",
       "          0.00713075,  0.01132719],\n",
       "        [ 0.02856919, -0.03851496,  0.021112  , ..., -0.03875414,\n",
       "         -0.04513872,  0.02541443],\n",
       "        [-0.06725936,  0.01713723,  0.0144296 , ..., -0.00670934,\n",
       "          0.02144906, -0.01146239],\n",
       "        ...,\n",
       "        [-0.00815772,  0.02613251,  0.05491715, ...,  0.08416243,\n",
       "         -0.01323725, -0.00169839],\n",
       "        [-0.01664284,  0.04446317, -0.0256686 , ..., -0.07477245,\n",
       "          0.00073188,  0.06508844],\n",
       "        [-0.10846532,  0.04423949,  0.05667479, ...,  0.06083513,\n",
       "          0.0064409 ,  0.04432628]], dtype=float32),\n",
       " array([[-0.1410707 ,  0.03725679, -0.1265785 , ...,  0.01690927,\n",
       "         -0.10004067,  0.1227698 ],\n",
       "        [-0.04586889, -0.13937141, -0.02906382, ..., -0.05428179,\n",
       "          0.11852603, -0.02917896],\n",
       "        [-0.08063922, -0.15802884, -0.12111042, ..., -0.07457214,\n",
       "          0.06597713,  0.08204773],\n",
       "        ...,\n",
       "        [-0.0669133 ,  0.10417512,  0.04233103, ..., -0.13765876,\n",
       "          0.08561513, -0.05078848],\n",
       "        [ 0.00323498, -0.08890141,  0.09916325, ..., -0.04174634,\n",
       "          0.07447954,  0.12260439],\n",
       "        [ 0.11568701,  0.00466535,  0.0458589 , ...,  0.12574336,\n",
       "          0.06264449, -0.07272999]], dtype=float32),\n",
       " array([[-0.0617555 ,  0.09490743,  0.06157542, ..., -0.03993753,\n",
       "         -0.00673266, -0.09417269],\n",
       "        [-0.01316671, -0.03736033,  0.01982669, ..., -0.04539371,\n",
       "          0.04569538,  0.1169496 ],\n",
       "        [-0.00961293, -0.00481158,  0.09828427, ..., -0.12979577,\n",
       "         -0.04135808, -0.01851965],\n",
       "        ...,\n",
       "        [-0.03848852,  0.07871917, -0.08014842, ..., -0.02455354,\n",
       "         -0.00515687, -0.00867366],\n",
       "        [ 0.06205747, -0.04060036,  0.04079401, ...,  0.03667646,\n",
       "         -0.08046358, -0.05770018],\n",
       "        [ 0.09217816, -0.03069405,  0.03732286, ...,  0.04084238,\n",
       "          0.08409102, -0.1295978 ]], dtype=float32),\n",
       " array([ 0.02154117,  0.01131522, -0.00113625, -0.01837584,  0.01093879,\n",
       "        -0.02826076,  0.01594207,  0.01089349,  0.02023717, -0.00202489,\n",
       "        -0.00062984,  0.02908193, -0.00450249,  0.01670206, -0.01623471,\n",
       "        -0.00206165,  0.005299  ,  0.01361725, -0.00256195,  0.01561867,\n",
       "        -0.00683581, -0.02099776, -0.01730583,  0.01540274, -0.00119247,\n",
       "        -0.00551842,  0.0091496 , -0.02684576, -0.00043242,  0.10150576,\n",
       "         0.01965151,  0.01652162,  0.00747546,  0.00647379,  0.01736367,\n",
       "        -0.0244367 ,  0.01860385, -0.0175037 , -0.00317946,  0.00118898,\n",
       "         0.01549543, -0.02261777, -0.01889107, -0.0043577 ,  0.00717025,\n",
       "        -0.01088997, -0.0087337 , -0.02257736,  0.00799204, -0.01445583,\n",
       "        -0.01675224,  0.0114123 , -0.01803559, -0.00363597, -0.01378243,\n",
       "        -0.01259306,  0.01624115, -0.00493344,  0.02043602, -0.02370954,\n",
       "        -0.007138  ,  0.02065716,  0.02038394, -0.01763876,  0.02496462,\n",
       "        -0.01936726, -0.00310525, -0.0007787 ,  0.01275875, -0.00140215,\n",
       "        -0.01750841,  0.01511271,  0.01052652,  0.0142638 , -0.01176123,\n",
       "         0.00462252, -0.0038391 ,  0.01771126, -0.02016957,  0.00466975,\n",
       "        -0.02650101, -0.01641052, -0.00971837, -0.0055721 ,  0.00376637,\n",
       "         0.01113401, -0.00036544,  0.01981053, -0.01048003,  0.01187137,\n",
       "         0.01292164,  0.02077849, -0.01154479, -0.01038388, -0.02109828,\n",
       "        -0.00612295, -0.00497949, -0.01058367,  0.00126698,  0.00509696,\n",
       "         0.00391609,  0.01493983, -0.02246546,  0.02343863, -0.01157029,\n",
       "        -0.00143471,  0.00357873, -0.01691041, -0.00603278,  0.01407156,\n",
       "        -0.00987594,  0.01861317,  0.00991119,  0.00935387,  0.00507738,\n",
       "        -0.00045023, -0.01082076,  0.01208219,  0.00558216,  0.02086531,\n",
       "        -0.00226002, -0.01495668,  0.00454221, -0.01838178, -0.01720642,\n",
       "         0.01662233, -0.00051849,  0.01007394], dtype=float32),\n",
       " array([[-1.09907739e-01],\n",
       "        [-3.32509160e-01],\n",
       "        [-2.32108552e-02],\n",
       "        [ 4.27598245e-02],\n",
       "        [ 1.26948789e-01],\n",
       "        [-6.03382029e-02],\n",
       "        [ 1.28105909e-01],\n",
       "        [-1.61684658e-02],\n",
       "        [ 1.16715245e-01],\n",
       "        [-2.21214652e-01],\n",
       "        [-1.22055724e-01],\n",
       "        [ 2.28713796e-01],\n",
       "        [-1.30068911e-02],\n",
       "        [ 2.05993801e-01],\n",
       "        [ 9.87820402e-02],\n",
       "        [ 1.94998384e-01],\n",
       "        [-3.64896566e-01],\n",
       "        [-9.57082689e-01],\n",
       "        [-1.52042478e-01],\n",
       "        [ 4.10491228e-02],\n",
       "        [ 1.14395872e-01],\n",
       "        [ 1.31699042e-02],\n",
       "        [ 1.65824786e-01],\n",
       "        [ 6.88854009e-02],\n",
       "        [-1.11341573e-01],\n",
       "        [-3.40202838e-01],\n",
       "        [-6.73991218e-02],\n",
       "        [-1.05942070e-01],\n",
       "        [ 9.65449512e-02],\n",
       "        [-4.44054216e-01],\n",
       "        [ 2.00601265e-01],\n",
       "        [-1.61412910e-01],\n",
       "        [ 1.58597931e-01],\n",
       "        [ 3.55329923e-02],\n",
       "        [-4.11470886e-04],\n",
       "        [-1.10494560e-02],\n",
       "        [ 1.60280436e-01],\n",
       "        [ 4.69701104e-02],\n",
       "        [ 6.18931092e-03],\n",
       "        [-8.68764445e-02],\n",
       "        [ 5.72855100e-02],\n",
       "        [ 1.19665004e-01],\n",
       "        [ 1.44209146e-01],\n",
       "        [ 3.42355132e-01],\n",
       "        [-1.90326065e-01],\n",
       "        [ 2.28933245e-01],\n",
       "        [-5.06302565e-02],\n",
       "        [-3.86390164e-02],\n",
       "        [-3.87199894e-02],\n",
       "        [ 5.40701337e-02],\n",
       "        [ 2.22631261e-01],\n",
       "        [-4.98014569e-01],\n",
       "        [ 1.59190789e-01],\n",
       "        [-1.74477786e-01],\n",
       "        [-1.52592152e-01],\n",
       "        [ 2.84951739e-02],\n",
       "        [-4.00499582e-01],\n",
       "        [ 1.95913032e-01],\n",
       "        [ 2.33965129e-01],\n",
       "        [-3.33830155e-03],\n",
       "        [-5.87777607e-02],\n",
       "        [ 2.47655794e-01],\n",
       "        [ 2.75945455e-01],\n",
       "        [ 2.24950343e-01],\n",
       "        [-1.48516089e-01],\n",
       "        [ 7.56145343e-02],\n",
       "        [-2.25880325e-01],\n",
       "        [ 3.05503383e-02],\n",
       "        [ 2.14895997e-02],\n",
       "        [ 6.77100196e-02],\n",
       "        [ 1.92368105e-01],\n",
       "        [ 1.95861638e-01],\n",
       "        [-3.86549719e-02],\n",
       "        [-3.12121183e-01],\n",
       "        [-1.32177472e-01],\n",
       "        [ 4.08697547e-03],\n",
       "        [-2.03027353e-01],\n",
       "        [ 1.23984635e-01],\n",
       "        [-1.64409373e-02],\n",
       "        [-2.04901829e-01],\n",
       "        [-2.65288968e-02],\n",
       "        [-4.27127481e-01],\n",
       "        [-4.31016013e-02],\n",
       "        [-1.85888380e-01],\n",
       "        [-2.52419114e-01],\n",
       "        [ 5.47898300e-02],\n",
       "        [-4.59299982e-01],\n",
       "        [-8.05468261e-02],\n",
       "        [-2.55682282e-02],\n",
       "        [ 2.29127854e-01],\n",
       "        [ 5.47272414e-02],\n",
       "        [ 1.79739315e-02],\n",
       "        [ 1.25583276e-01],\n",
       "        [-1.73171028e-01],\n",
       "        [ 2.91385595e-02],\n",
       "        [ 9.85830557e-04],\n",
       "        [-1.29320472e-01],\n",
       "        [-2.79470421e-02],\n",
       "        [-1.03801124e-01],\n",
       "        [ 9.75237936e-02],\n",
       "        [-1.76330060e-01],\n",
       "        [-5.77046201e-02],\n",
       "        [ 1.54941101e-02],\n",
       "        [-1.58033390e-02],\n",
       "        [-1.45366061e-02],\n",
       "        [-1.70451462e-01],\n",
       "        [-9.06357169e-03],\n",
       "        [ 1.88516140e-01],\n",
       "        [-5.66477217e-02],\n",
       "        [ 1.40001431e-01],\n",
       "        [-3.94995846e-02],\n",
       "        [ 1.55218929e-01],\n",
       "        [-1.46164205e-02],\n",
       "        [-2.99964640e-02],\n",
       "        [ 4.73904163e-02],\n",
       "        [-1.74263448e-01],\n",
       "        [-1.56099066e-01],\n",
       "        [-7.11589232e-02],\n",
       "        [-1.29910260e-01],\n",
       "        [-2.30674624e-01],\n",
       "        [ 1.32925585e-01],\n",
       "        [-2.82124907e-01],\n",
       "        [-2.32432604e-01],\n",
       "        [ 8.50844607e-02],\n",
       "        [ 7.40452856e-02],\n",
       "        [ 2.49527365e-01],\n",
       "        [-1.66246846e-01],\n",
       "        [ 2.08377764e-01]], dtype=float32),\n",
       " array([-0.46237543], dtype=float32)]"
      ]
     },
     "execution_count": 4,
     "metadata": {},
     "output_type": "execute_result"
    }
   ],
   "source": [
    "model.get_weights()"
   ]
  },
  {
   "cell_type": "code",
   "execution_count": 5,
   "metadata": {},
   "outputs": [],
   "source": [
    "# Step 2: Helper Functions\n",
    "# Function to decode reviews\n",
    "def decode_review(encoded_review):\n",
    "    return ' '.join([reverse_word_index.get(i - 3, '?') for i in encoded_review])\n",
    "\n",
    "# Function to preprocess user input\n",
    "def preprocess_text(text):\n",
    "    words = text.lower().split()\n",
    "    encoded_review = [word_index.get(word, 2) + 3 for word in words]\n",
    "    padded_review = sequence.pad_sequences([encoded_review], maxlen=500)\n",
    "    return padded_review"
   ]
  },
  {
   "cell_type": "code",
   "execution_count": 8,
   "metadata": {},
   "outputs": [],
   "source": [
    "### Prediction  function\n",
    "\n",
    "def predict_sentiment(review):\n",
    "    preprocessed_input = preprocess_text(review)\n",
    "\n",
    "    prediction = model.predict(preprocessed_input)\n",
    "\n",
    "    sentiment = 'Positive' if prediction[0][0] > 0.5 else 'Negative'\n",
    "    \n",
    "    return sentiment, prediction[0][0]\n",
    "\n"
   ]
  },
  {
   "cell_type": "code",
   "execution_count": 13,
   "metadata": {},
   "outputs": [
    {
     "name": "stdout",
     "output_type": "stream",
     "text": [
      "\u001b[1m1/1\u001b[0m \u001b[32m━━━━━━━━━━━━━━━━━━━━\u001b[0m\u001b[37m\u001b[0m \u001b[1m0s\u001b[0m 36ms/step\n",
      "Review: This movie was fantastic! The acting was great and the plot was thrilling.\n",
      "Sentiment: Positive\n",
      "Prediction Score: 0.9387060403823853\n"
     ]
    }
   ],
   "source": [
    "# Step 4: User Input and Prediction\n",
    "# Example review for prediction\n",
    "example_review = \"This movie was fantastic! The acting was great and the plot was thrilling.\"\n",
    "\n",
    "sentiment,score = predict_sentiment(example_review)\n",
    "\n",
    "print(f'Review: {example_review}')\n",
    "print(f'Sentiment: {sentiment}')\n",
    "print(f'Prediction Score: {score}')"
   ]
  }
 ],
 "metadata": {
  "kernelspec": {
   "display_name": "base",
   "language": "python",
   "name": "python3"
  },
  "language_info": {
   "codemirror_mode": {
    "name": "ipython",
    "version": 3
   },
   "file_extension": ".py",
   "mimetype": "text/x-python",
   "name": "python",
   "nbconvert_exporter": "python",
   "pygments_lexer": "ipython3",
   "version": "3.11.7"
  }
 },
 "nbformat": 4,
 "nbformat_minor": 2
}
